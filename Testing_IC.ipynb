{
  "cells": [
    {
      "cell_type": "code",
      "execution_count": 2,
      "metadata": {
        "id": "13JDSF-sLeBg"
      },
      "outputs": [],
      "source": [
        "import utils\n",
        "import pandas as pd"
      ]
    },
    {
      "cell_type": "code",
      "execution_count": 3,
      "metadata": {
        "id": "NtSiOigzMGv0"
      },
      "outputs": [],
      "source": [
        "df_list = utils.read_data('train')"
      ]
    },
    {
      "cell_type": "markdown",
      "metadata": {
        "id": "xURl0YkHMjhE"
      },
      "source": [
        "## Split entrenamiento validación"
      ]
    },
    {
      "cell_type": "code",
      "execution_count": 5,
      "metadata": {
        "id": "VPyffvvyMnWa"
      },
      "outputs": [],
      "source": [
        "from sklearn.model_selection import train_test_split\n",
        "import numpy as np"
      ]
    },
    {
      "cell_type": "code",
      "execution_count": 6,
      "metadata": {
        "id": "vHm3YabNNDee"
      },
      "outputs": [],
      "source": [
        "train_sub, val_sub = train_test_split(np.arange(1, 31), train_size = 0.8, random_state = 42)"
      ]
    },
    {
      "cell_type": "markdown",
      "metadata": {
        "id": "v-1VYiH_4Woq"
      },
      "source": [
        "## Gráficos"
      ]
    },
    {
      "cell_type": "code",
      "execution_count": null,
      "metadata": {
        "id": "255Z2bpj6A_2"
      },
      "outputs": [],
      "source": [
        "subj = df_list[0]\n",
        "subj.head()"
      ]
    },
    {
      "cell_type": "markdown",
      "metadata": {
        "id": "1KtR8_jlIF7a"
      },
      "source": [
        "### Amplitud vs Tiempo"
      ]
    },
    {
      "cell_type": "code",
      "execution_count": null,
      "metadata": {
        "id": "cuIo32x84Yzg"
      },
      "outputs": [],
      "source": [
        "\n",
        "utils.plot_channel(subj, 'channel1')"
      ]
    },
    {
      "cell_type": "code",
      "execution_count": null,
      "metadata": {
        "id": "FOYIbp1k5OJh"
      },
      "outputs": [],
      "source": [
        "utils.plot_channel(subj, 'channel3')"
      ]
    },
    {
      "cell_type": "code",
      "execution_count": null,
      "metadata": {
        "id": "yGkPbxXL5R58"
      },
      "outputs": [],
      "source": [
        "utils.plot_channel(subj, 'channel5')"
      ]
    },
    {
      "cell_type": "markdown",
      "metadata": {
        "id": "O3PefwZxIJg4"
      },
      "source": [
        "### Amplitud vs Frecuencia"
      ]
    },
    {
      "cell_type": "code",
      "execution_count": null,
      "metadata": {
        "id": "ESWZalpZIEpH"
      },
      "outputs": [],
      "source": [
        "utils.plot_freq(subj, 'channel1')"
      ]
    },
    {
      "cell_type": "code",
      "execution_count": null,
      "metadata": {
        "id": "9RMAX9-JIg9K"
      },
      "outputs": [],
      "source": [
        "utils.plot_freq(subj, 'channel3')"
      ]
    },
    {
      "cell_type": "code",
      "execution_count": null,
      "metadata": {
        "id": "BdhvJd2NIvBs"
      },
      "outputs": [],
      "source": [
        "utils.plot_freq(subj, 'channel5')"
      ]
    },
    {
      "cell_type": "markdown",
      "metadata": {
        "id": "nn2yZ04PBs5F"
      },
      "source": [
        "## Correlaciones"
      ]
    },
    {
      "cell_type": "code",
      "execution_count": null,
      "metadata": {
        "id": "sR0doAbcCJX8"
      },
      "outputs": [],
      "source": [
        "val_list = []\n",
        "for df in df_list:\n",
        "    if df['subject'].unique() in val_sub:\n",
        "      val_list.append(df)\n",
        "\n",
        "df_val = pd.concat(val_list, ignore_index=True)"
      ]
    },
    {
      "cell_type": "code",
      "execution_count": null,
      "metadata": {
        "id": "ReOKZzLDBr-i"
      },
      "outputs": [],
      "source": [
        "non_features = ['class', 'subject', 'capture', 'time']\n",
        "short_corr = lambda d,m: d.drop(non_features, axis=1).corr(method=m).abs()\n",
        "corr_methods = ['pearson', 'kendall', 'spearman']\n",
        "reduced_data  = df_val[(df_val['class']!=0) & (df_val['class']!=1)] # Se quitan las clases que no interesan"
      ]
    },
    {
      "cell_type": "code",
      "execution_count": null,
      "metadata": {
        "id": "pnhx-N5JB6BK"
      },
      "outputs": [],
      "source": [
        "reduced_corr = {}\n",
        "for method in corr_methods:\n",
        "  reduced_corr[method] = short_corr(reduced_data, method)"
      ]
    },
    {
      "cell_type": "code",
      "execution_count": null,
      "metadata": {
        "id": "L4l82tnkB8tY"
      },
      "outputs": [],
      "source": [
        "for key in reduced_corr:\n",
        "  top = reduced_corr[key].where(np.tril(np.ones(reduced_corr[key].shape), -1).astype(bool)).stack() # Se toma la triangular para evitar repetir pares\n",
        "  top = top.sort_values(ascending = False)\n",
        "  print(f'Canales más correlacionados según: {key}')\n",
        "  print(top[:5])"
      ]
    },
    {
      "cell_type": "code",
      "execution_count": null,
      "metadata": {
        "id": "RXMcJ2fWWGYd"
      },
      "outputs": [],
      "source": [
        "from sklearn.feature_selection import mutual_info_regression\n",
        "mi = mutual_info_regression((reduced_data).drop(non_features, axis=1), reduced_data['class'])"
      ]
    },
    {
      "cell_type": "code",
      "execution_count": null,
      "metadata": {
        "id": "hDXiuGtQY3C5"
      },
      "outputs": [],
      "source": [
        "print('Mutual information')\n",
        "for i in range(len(mi)):\n",
        "  print(f'Canal{i+1} : {round(mi[i], 4)}')"
      ]
    },
    {
      "cell_type": "markdown",
      "metadata": {
        "id": "89A5rOp7NUq7"
      },
      "source": [
        "## Features"
      ]
    },
    {
      "cell_type": "code",
      "execution_count": 7,
      "metadata": {
        "id": "NQ-tRFgvNoFv"
      },
      "outputs": [],
      "source": [
        "def data_range(x):\n",
        "  return x.max()-x.min()\n",
        "\n",
        "def rms(x):\n",
        "  z = x*x\n",
        "  sum = z.sum()\n",
        "  result = np.sqrt(sum/len(x))\n",
        "\n",
        "  return result\n",
        "\n",
        "# Zero crossing rate\n",
        "def zcr(x):\n",
        "  x = np.array(x)\n",
        "  n = len(x)\n",
        "  zc = ((x[:-1] * x[1:]) < 0).sum()\n",
        "  return zc/n\n",
        "\n",
        "def mcr(x):\n",
        "  x = np.array(x)\n",
        "  z = x-np.mean(x)\n",
        "  return zcr(z)\n",
        "\n",
        "#waveform length\n",
        "def wl(data):\n",
        "    return np.sum(np.abs(np.diff(data,axis=0)), axis=0)\n",
        "\n",
        "features = [wl, 'mad', mcr, rms]"
      ]
    },
    {
      "cell_type": "markdown",
      "metadata": {
        "id": "0ta3bq8a36G8"
      },
      "source": [
        "## Grids"
      ]
    },
    {
      "cell_type": "code",
      "execution_count": 8,
      "metadata": {
        "id": "jVYqaTxRAlgx"
      },
      "outputs": [],
      "source": [
        "from sklearn.ensemble import RandomForestClassifier\n",
        "from sklearn.neighbors import KNeighborsClassifier"
      ]
    },
    {
      "cell_type": "code",
      "execution_count": 9,
      "metadata": {
        "id": "wrTF6yVGAWcu"
      },
      "outputs": [],
      "source": [
        "# pre_grids\n",
        "param_pregrid_linear = [{\n",
        "                    'C':[0.0001, 0.001, 0.1, 1, 10],\n",
        "                    'kernel': ['linear']\n",
        "                  }]\n",
        "\n",
        "param_pregrid_forest = [{\n",
        "    'n_estimators':[150, 250],\n",
        "    'max_depth': [None],\n",
        "    'criterion' : ['entropy']\n",
        "                  }]\n",
        "          \n",
        "param_pregrid_knn = [{\n",
        "    'n_neighbors':[5, 10, 15],\n",
        "    'algorithm': ['ball_tree', 'kd_tree']\n",
        "}]"
      ]
    },
    {
      "cell_type": "code",
      "execution_count": 10,
      "metadata": {
        "id": "TlBaUYByO9o1"
      },
      "outputs": [],
      "source": [
        "from sklearn import svm\n",
        "from sklearn.model_selection import GridSearchCV\n"
      ]
    },
    {
      "cell_type": "code",
      "execution_count": 11,
      "metadata": {
        "id": "VoV0OEF5x0Lj"
      },
      "outputs": [],
      "source": [
        "common_pregrid = {'scoring':'balanced_accuracy', 'refit':True, 'verbose':1}"
      ]
    },
    {
      "cell_type": "code",
      "execution_count": 20,
      "metadata": {
        "id": "i28o6k4YC_OY"
      },
      "outputs": [],
      "source": [
        "pregrid_dict = {\n",
        "    'linear':lambda x :  GridSearchCV(estimator= svm.SVC(), param_grid = param_pregrid_linear,\n",
        "                                      cv = x, **common_pregrid),\n",
        "                              \n",
        "    'forest': lambda x : GridSearchCV(estimator= RandomForestClassifier(),\n",
        "                     param_grid = param_pregrid_forest, cv = x , **common_pregrid),\n",
        "                \n",
        "    'knn' : lambda x : GridSearchCV(estimator = KNeighborsClassifier(),\n",
        "                         param_grid = param_pregrid_knn, cv = x, **common_pregrid)\n",
        "}"
      ]
    },
    {
      "cell_type": "markdown",
      "metadata": {
        "id": "348MgejiBBgc"
      },
      "source": [
        "## Simplificación de entrenamiento"
      ]
    },
    {
      "cell_type": "code",
      "execution_count": 21,
      "metadata": {
        "id": "7HyWtQKsA-3m"
      },
      "outputs": [],
      "source": [
        "def train_with_wrapper(df_list, train_sub, val_sub, features, grid_dict):\n",
        "  wrapper = utils.TrainWrapper(df_list)\n",
        "  wrapper.split(train_sub, val_sub) # Split train/val\n",
        "  wrapper.make_windows() # Crear ventanas\n",
        "  wrapper.compute_features(features)\n",
        "  wrapper.make_test_folds() # Crear x_tv, y_tv y cv\n",
        "\n",
        "  train_dict = {}\n",
        "  for key in grid_dict:\n",
        "    train_dict[key] = grid_dict[key](wrapper.cv) # Setea cross-validation fold\n",
        "  \n",
        "  wrapper_trained = utils.multitrain(train_dict, wrapper.x_tv, wrapper.y_tv)\n",
        "\n",
        "  return wrapper_trained, wrapper"
      ]
    },
    {
      "cell_type": "code",
      "execution_count": 22,
      "metadata": {
        "id": "KxHAaXu5ISkz"
      },
      "outputs": [],
      "source": [
        "preparams = [train_sub, val_sub, features, pregrid_dict]"
      ]
    },
    {
      "cell_type": "markdown",
      "metadata": {
        "id": "zcPASe_CL9-O"
      },
      "source": [
        "## Prueba 1 "
      ]
    },
    {
      "cell_type": "code",
      "execution_count": 15,
      "metadata": {
        "id": "hKXvSMOCR6W5"
      },
      "outputs": [],
      "source": [
        "channels = [f'channel{i}' for i in range(1,9)]"
      ]
    },
    {
      "cell_type": "code",
      "execution_count": 16,
      "metadata": {
        "id": "_RpBokuUMIAo"
      },
      "outputs": [],
      "source": [
        "df_list1 = [utils.substract_mean(x, channels) for x in df_list]"
      ]
    },
    {
      "cell_type": "code",
      "execution_count": 23,
      "metadata": {
        "colab": {
          "base_uri": "https://localhost:8080/"
        },
        "id": "32BhH3AyH51Y",
        "outputId": "594453cc-bd16-49bd-ca66-e823d9b87d4b"
      },
      "outputs": [
        {
          "name": "stdout",
          "output_type": "stream",
          "text": [
            "Fitting 1 folds for each of 5 candidates, totalling 5 fits\n",
            "Fitting 1 folds for each of 2 candidates, totalling 2 fits\n",
            "Fitting 1 folds for each of 6 candidates, totalling 6 fits\n"
          ]
        }
      ],
      "source": [
        "test1_trained, test1_wrapper = train_with_wrapper(df_list1, *preparams)"
      ]
    },
    {
      "cell_type": "code",
      "execution_count": 24,
      "metadata": {
        "colab": {
          "base_uri": "https://localhost:8080/"
        },
        "id": "Tg0TXxfeMIAs",
        "outputId": "24b8a2d0-f53a-4a20-9473-9aff60c518ff"
      },
      "outputs": [
        {
          "name": "stdout",
          "output_type": "stream",
          "text": [
            "linear: {'C': 0.1, 'kernel': 'linear'}\n",
            "forest: {'criterion': 'entropy', 'max_depth': None, 'n_estimators': 150}\n",
            "knn: {'algorithm': 'ball_tree', 'n_neighbors': 10}\n"
          ]
        }
      ],
      "source": [
        "for x in test1_trained:\n",
        "  print(f'{x}: {test1_trained[x][1]}')"
      ]
    },
    {
      "cell_type": "code",
      "execution_count": 25,
      "metadata": {
        "id": "XFA3BZ3BMIAs"
      },
      "outputs": [],
      "source": [
        "import sklearn.metrics as metrics\n",
        "pre_accuracies = {}\n",
        "for x in test1_trained:\n",
        "  cl = test1_trained[x][0]\n",
        "\n",
        "  pre_predictv = cl.predict(test1_wrapper.x_val)\n",
        "  pre_predict = cl.predict(test1_wrapper.x_train)\n",
        "  pre_accuracies[x] = (metrics.accuracy_score(test1_wrapper.y_train, pre_predict),\n",
        "                       metrics.accuracy_score(test1_wrapper.y_val, pre_predictv))"
      ]
    },
    {
      "cell_type": "code",
      "execution_count": 26,
      "metadata": {
        "colab": {
          "base_uri": "https://localhost:8080/"
        },
        "id": "wYoSTapsMIAs",
        "outputId": "5fbc85c1-0b4e-4580-d1c2-5a9955d08f3b"
      },
      "outputs": [
        {
          "data": {
            "text/plain": [
              "{'forest': (1.0, 1.0),\n",
              " 'knn': (0.9667097608274079, 0.9805194805194806),\n",
              " 'linear': (0.8416289592760181, 0.9264069264069265)}"
            ]
          },
          "execution_count": 26,
          "metadata": {},
          "output_type": "execute_result"
        }
      ],
      "source": [
        "pre_accuracies"
      ]
    },
    {
      "cell_type": "markdown",
      "metadata": {
        "id": "QIYB7vkN99vz"
      },
      "source": [
        "## Prueba 1.5 (Elegir caracteristicas extra)"
      ]
    },
    {
      "cell_type": "code",
      "execution_count": 107,
      "metadata": {
        "id": "1JD-8SOT-DZr"
      },
      "outputs": [],
      "source": [
        "extra_features = ['kurtosis', 'skew', data_range]"
      ]
    },
    {
      "cell_type": "code",
      "execution_count": 109,
      "metadata": {
        "colab": {
          "base_uri": "https://localhost:8080/"
        },
        "id": "yKNq_sIg-EPa",
        "outputId": "47273263-90c4-48dc-9a1e-72fb516fd487"
      },
      "outputs": [
        {
          "name": "stdout",
          "output_type": "stream",
          "text": [
            "Fitting 1 folds for each of 5 candidates, totalling 5 fits\n",
            "Fitting 1 folds for each of 2 candidates, totalling 2 fits\n",
            "Fitting 1 folds for each of 6 candidates, totalling 6 fits\n",
            "Fitting 1 folds for each of 5 candidates, totalling 5 fits\n",
            "Fitting 1 folds for each of 2 candidates, totalling 2 fits\n",
            "Fitting 1 folds for each of 6 candidates, totalling 6 fits\n",
            "Fitting 1 folds for each of 5 candidates, totalling 5 fits\n",
            "Fitting 1 folds for each of 2 candidates, totalling 2 fits\n",
            "Fitting 1 folds for each of 6 candidates, totalling 6 fits\n"
          ]
        }
      ],
      "source": [
        "pre_accsf = {}\n",
        "for f in extra_features:\n",
        "  nparams = [train_sub, val_sub, features + [f], pregrid_dict]\n",
        "  testf_trained, testf = train_with_wrapper(df_list1, *nparams)\n",
        "\n",
        "  pre_accsf[f] = {}\n",
        "  for x in testf_trained:\n",
        "    cl = testf_trained[x][0]\n",
        "\n",
        "    pre_predictv = cl.predict(testf.x_val)\n",
        "    pre_predict = cl.predict(testf.x_train)\n",
        "    pre_accsf[f][x] = (metrics.accuracy_score(testf.y_train, pre_predict),\n",
        "                        metrics.accuracy_score(testf.y_val, pre_predictv))"
      ]
    },
    {
      "cell_type": "code",
      "execution_count": 111,
      "metadata": {
        "colab": {
          "base_uri": "https://localhost:8080/"
        },
        "id": "LhO6bz-MBHYE",
        "outputId": "567f5b9d-8c82-469d-e63c-e9978839f892"
      },
      "outputs": [
        {
          "data": {
            "text/plain": [
              "{'forest': (1.0, 1.0),\n",
              " 'knn': (0.9667097608274079, 0.9805194805194806),\n",
              " 'linear': (0.8416289592760181, 0.9264069264069265)}"
            ]
          },
          "execution_count": 111,
          "metadata": {},
          "output_type": "execute_result"
        }
      ],
      "source": [
        "pre_accuracies"
      ]
    },
    {
      "cell_type": "code",
      "execution_count": 110,
      "metadata": {
        "colab": {
          "base_uri": "https://localhost:8080/"
        },
        "id": "FlGlwCrE-mkt",
        "outputId": "4ca56ba6-0598-45e2-8562-1d532c00ab0c"
      },
      "outputs": [
        {
          "name": "stdout",
          "output_type": "stream",
          "text": [
            "kurtosis\n",
            "{'linear': (0.8445378151260504, 0.9296536796536796), 'forest': (1.0, 1.0), 'knn': (0.967032967032967, 0.9826839826839827)}\n",
            "skew\n",
            "{'linear': (0.8506787330316742, 0.9491341991341992), 'forest': (1.0, 1.0), 'knn': (0.9547511312217195, 0.9675324675324676)}\n",
            "<function data_range at 0x7f873827d830>\n",
            "{'linear': (0.8587588881706528, 0.9502164502164502), 'forest': (1.0, 1.0), 'knn': (0.9776987718164188, 0.987012987012987)}\n"
          ]
        }
      ],
      "source": [
        "for key in pre_accsf:\n",
        "  print(key)\n",
        "  print(pre_accsf[key])"
      ]
    },
    {
      "cell_type": "code",
      "execution_count": 113,
      "metadata": {
        "colab": {
          "base_uri": "https://localhost:8080/"
        },
        "id": "6vNhBgzfHgi2",
        "outputId": "d3da302c-a21f-414a-c442-06abbbd82fab"
      },
      "outputs": [
        {
          "name": "stdout",
          "output_type": "stream",
          "text": [
            "Fitting 1 folds for each of 5 candidates, totalling 5 fits\n",
            "Fitting 1 folds for each of 2 candidates, totalling 2 fits\n",
            "Fitting 1 folds for each of 6 candidates, totalling 6 fits\n"
          ]
        }
      ],
      "source": [
        "nparams = [train_sub, val_sub, features + [data_range, 'kurtosis'], pregrid_dict]\n",
        "testf_trained, testf = train_with_wrapper(df_list1, *nparams)"
      ]
    },
    {
      "cell_type": "code",
      "execution_count": 114,
      "metadata": {
        "id": "IdUt60RLH0Bo"
      },
      "outputs": [],
      "source": [
        "pre_accsf['skew + range'] = {}"
      ]
    },
    {
      "cell_type": "code",
      "execution_count": 115,
      "metadata": {
        "id": "5PvaCWFwHyX9"
      },
      "outputs": [],
      "source": [
        "for x in testf_trained:\n",
        "    cl = testf_trained[x][0]\n",
        "\n",
        "    pre_predictv = cl.predict(testf.x_val)\n",
        "    pre_predict = cl.predict(testf.x_train)\n",
        "    pre_accsf['skew + range'][x] = (metrics.accuracy_score(testf.y_train, pre_predict),\n",
        "                        metrics.accuracy_score(testf.y_val, pre_predictv))"
      ]
    },
    {
      "cell_type": "code",
      "execution_count": 116,
      "metadata": {
        "colab": {
          "base_uri": "https://localhost:8080/"
        },
        "id": "gc8k3D4AIHdm",
        "outputId": "14e36b33-06ca-4fe2-ef85-1cfe58f254b7"
      },
      "outputs": [
        {
          "name": "stdout",
          "output_type": "stream",
          "text": [
            "kurtosis\n",
            "{'linear': (0.8445378151260504, 0.9296536796536796), 'forest': (1.0, 1.0), 'knn': (0.967032967032967, 0.9826839826839827)}\n",
            "skew\n",
            "{'linear': (0.8506787330316742, 0.9491341991341992), 'forest': (1.0, 1.0), 'knn': (0.9547511312217195, 0.9675324675324676)}\n",
            "<function data_range at 0x7f873827d830>\n",
            "{'linear': (0.8587588881706528, 0.9502164502164502), 'forest': (1.0, 1.0), 'knn': (0.9776987718164188, 0.987012987012987)}\n",
            "skew + range\n",
            "{'linear': (0.8616677440206852, 0.9534632034632035), 'forest': (1.0, 1.0), 'knn': (0.9776987718164188, 0.9891774891774892)}\n"
          ]
        }
      ],
      "source": [
        "for key in pre_accsf:\n",
        "  print(key)\n",
        "  print(pre_accsf[key])"
      ]
    },
    {
      "cell_type": "markdown",
      "metadata": {
        "id": "FrLdneIsM8mD"
      },
      "source": [
        "## Caracteristicas definitivas"
      ]
    },
    {
      "cell_type": "code",
      "execution_count": 27,
      "metadata": {
        "id": "0IY6VfgcNAWK"
      },
      "outputs": [],
      "source": [
        "features += [data_range, 'kurtosis']\n",
        "preparams = [train_sub, val_sub, features, pregrid_dict]"
      ]
    },
    {
      "cell_type": "markdown",
      "metadata": {
        "id": "U_5iKlvLUhpx"
      },
      "source": [
        "## Prueba 2 (Sin canal 2 o 3 + P1)"
      ]
    },
    {
      "cell_type": "code",
      "execution_count": 118,
      "metadata": {
        "colab": {
          "base_uri": "https://localhost:8080/"
        },
        "id": "zrr2priM2_Sa",
        "outputId": "5193beb9-3274-4271-f733-2ab2ca0c9caa"
      },
      "outputs": [
        {
          "name": "stdout",
          "output_type": "stream",
          "text": [
            "Fitting 1 folds for each of 5 candidates, totalling 5 fits\n",
            "Fitting 1 folds for each of 2 candidates, totalling 2 fits\n",
            "Fitting 1 folds for each of 6 candidates, totalling 6 fits\n",
            "Fitting 1 folds for each of 5 candidates, totalling 5 fits\n",
            "Fitting 1 folds for each of 2 candidates, totalling 2 fits\n",
            "Fitting 1 folds for each of 6 candidates, totalling 6 fits\n"
          ]
        }
      ],
      "source": [
        "pre_accs2 = {'channel2':{}, 'channel3':{}}\n",
        "for ch in ['channel2', 'channel3']:\n",
        "    df_list2 = [x.drop([ch], axis=1) for x in df_list1]\n",
        "    test2_trained, test2_wrapper = train_with_wrapper(df_list2, *preparams)\n",
        "    for x in test2_trained:\n",
        "      cl = test2_trained[x][0]\n",
        "\n",
        "      pre_predictv = cl.predict(test2_wrapper.x_val)\n",
        "      pre_predict = cl.predict(test2_wrapper.x_train)\n",
        "\n",
        "      pre_accs2[ch][x] = (metrics.accuracy_score(test2_wrapper.y_train, pre_predict),\n",
        "                          metrics.accuracy_score(test2_wrapper.y_val, pre_predictv))"
      ]
    },
    {
      "cell_type": "code",
      "execution_count": 119,
      "metadata": {
        "colab": {
          "base_uri": "https://localhost:8080/"
        },
        "id": "Fqc0YQ1lUkAR",
        "outputId": "913b8735-ecd8-4a4e-a823-8cd227342e31"
      },
      "outputs": [
        {
          "name": "stdout",
          "output_type": "stream",
          "text": [
            "channel2\n",
            "{'linear': (0.8422753716871364, 0.9404761904761905), 'forest': (1.0, 1.0), 'knn': (0.97349709114415, 0.9848484848484849)}\n",
            "channel3\n",
            "{'linear': (0.8584356819650937, 0.9502164502164502), 'forest': (1.0, 1.0), 'knn': (0.9747899159663865, 0.9880952380952381)}\n"
          ]
        }
      ],
      "source": [
        "for key in pre_accs2:\n",
        "  print(key)\n",
        "  print(pre_accs2[key])"
      ]
    },
    {
      "cell_type": "markdown",
      "metadata": {
        "id": "CaKo-RvuaLFD"
      },
      "source": [
        "## Prueba 3 (Filtros + P2)"
      ]
    },
    {
      "cell_type": "code",
      "execution_count": 120,
      "metadata": {
        "id": "gQEpWb2WBGGh"
      },
      "outputs": [],
      "source": [
        "channels_p3 = [x for x in channels if x!='channel3']"
      ]
    },
    {
      "cell_type": "code",
      "execution_count": 122,
      "metadata": {
        "id": "5mYSElR5I4o2"
      },
      "outputs": [],
      "source": [
        "df_list3 = [x.drop(['channel3'], axis=1) for x in df_list1]"
      ]
    },
    {
      "cell_type": "code",
      "execution_count": 128,
      "metadata": {
        "id": "Rnavc7bWHsRU"
      },
      "outputs": [],
      "source": [
        "filters = [ {'cutoffs' : 350, 'btype':'low'}, {'cutoffs' : 400, 'btype':'low'}, \n",
        "           {'cutoffs' : 1, 'btype':'high'}, {'cutoffs' : 12, 'btype':'high'}]"
      ]
    },
    {
      "cell_type": "code",
      "execution_count": 129,
      "metadata": {
        "colab": {
          "base_uri": "https://localhost:8080/"
        },
        "id": "DbHqlRrHIrHV",
        "outputId": "06c31ab7-bb17-47b3-efe3-cd7fbd4b3631"
      },
      "outputs": [
        {
          "name": "stdout",
          "output_type": "stream",
          "text": [
            "Fitting 1 folds for each of 5 candidates, totalling 5 fits\n",
            "Fitting 1 folds for each of 2 candidates, totalling 2 fits\n",
            "Fitting 1 folds for each of 6 candidates, totalling 6 fits\n",
            "Fitting 1 folds for each of 5 candidates, totalling 5 fits\n",
            "Fitting 1 folds for each of 2 candidates, totalling 2 fits\n",
            "Fitting 1 folds for each of 6 candidates, totalling 6 fits\n",
            "Fitting 1 folds for each of 5 candidates, totalling 5 fits\n",
            "Fitting 1 folds for each of 2 candidates, totalling 2 fits\n",
            "Fitting 1 folds for each of 6 candidates, totalling 6 fits\n",
            "Fitting 1 folds for each of 5 candidates, totalling 5 fits\n",
            "Fitting 1 folds for each of 2 candidates, totalling 2 fits\n",
            "Fitting 1 folds for each of 6 candidates, totalling 6 fits\n"
          ]
        }
      ],
      "source": [
        "pre_accs3 = {}\n",
        "for f in filters:\n",
        "  f['channels'] = channels_p3\n",
        "  df_listf = [utils.filtrar_df(df_list3[i], **f) for i in range(len(df_list3))]\n",
        "  test3_trained, test3_wrapper = train_with_wrapper(df_listf, *preparams)\n",
        "\n",
        "  key = f\"{f['cutoffs']}-{f['btype']}\"\n",
        "  pre_accs3[key] = {}\n",
        "\n",
        "  for x in test3_trained:\n",
        "      cl = test3_trained[x][0]\n",
        "      pre_predictv = cl.predict(test3_wrapper.x_val)\n",
        "      pre_predict = cl.predict(test3_wrapper.x_train)\n",
        "\n",
        "      pre_accs3[key][x] = (metrics.accuracy_score(test3_wrapper.y_train, pre_predict),\n",
        "                           metrics.accuracy_score(test3_wrapper.y_val, pre_predictv))"
      ]
    },
    {
      "cell_type": "code",
      "execution_count": 141,
      "metadata": {
        "colab": {
          "base_uri": "https://localhost:8080/"
        },
        "id": "NUWXBEP-Mkkf",
        "outputId": "6eece6ec-88b8-49a7-b44d-32b1939d09d9"
      },
      "outputs": [
        {
          "name": "stdout",
          "output_type": "stream",
          "text": [
            "350-low\n",
            "{'linear': (0.8487394957983193, 0.946969696969697), 'forest': (1.0, 1.0), 'knn': (0.9615384615384616, 0.9805194805194806)}\n",
            "400-low\n",
            "{'linear': (0.8484162895927602, 0.9458874458874459), 'forest': (1.0, 1.0), 'knn': (0.9621848739495799, 0.9794372294372294)}\n",
            "1-high\n",
            "{'linear': (0.8574660633484162, 0.9512987012987013), 'forest': (1.0, 1.0), 'knn': (0.9738202973497091, 0.9913419913419913)}\n",
            "12-high\n",
            "{'linear': (0.8561732385261797, 0.9361471861471862), 'forest': (1.0, 1.0), 'knn': (0.964770523594053, 0.9816017316017316)}\n"
          ]
        }
      ],
      "source": [
        "for key in pre_accs3:\n",
        "  print(key)\n",
        "  print(pre_accs3[key])"
      ]
    },
    {
      "cell_type": "markdown",
      "metadata": {
        "id": "QhsxTwG0ik3j"
      },
      "source": [
        "## Prueba 4 (Ventanas)"
      ]
    },
    {
      "cell_type": "code",
      "execution_count": 40,
      "metadata": {
        "id": "VeB1uInRzxDj"
      },
      "outputs": [],
      "source": [
        "win_step = [(800, 250), (800, 150), (800, 350), (750, 250), (950, 250)] # pares (window_size, step)"
      ]
    },
    {
      "cell_type": "code",
      "execution_count": 41,
      "metadata": {
        "colab": {
          "base_uri": "https://localhost:8080/"
        },
        "id": "7yx-XduT6KBz",
        "outputId": "e05d936c-384f-42a0-ae83-b3caa27a5337"
      },
      "outputs": [
        {
          "name": "stdout",
          "output_type": "stream",
          "text": [
            "Fitting 1 folds for each of 5 candidates, totalling 5 fits\n",
            "Fitting 1 folds for each of 2 candidates, totalling 2 fits\n",
            "Fitting 1 folds for each of 6 candidates, totalling 6 fits\n",
            "Fitting 1 folds for each of 5 candidates, totalling 5 fits\n",
            "Fitting 1 folds for each of 2 candidates, totalling 2 fits\n",
            "Fitting 1 folds for each of 6 candidates, totalling 6 fits\n",
            "Fitting 1 folds for each of 5 candidates, totalling 5 fits\n",
            "Fitting 1 folds for each of 2 candidates, totalling 2 fits\n",
            "Fitting 1 folds for each of 6 candidates, totalling 6 fits\n",
            "Fitting 1 folds for each of 5 candidates, totalling 5 fits\n",
            "Fitting 1 folds for each of 2 candidates, totalling 2 fits\n",
            "Fitting 1 folds for each of 6 candidates, totalling 6 fits\n",
            "Fitting 1 folds for each of 5 candidates, totalling 5 fits\n",
            "Fitting 1 folds for each of 2 candidates, totalling 2 fits\n",
            "Fitting 1 folds for each of 6 candidates, totalling 6 fits\n"
          ]
        }
      ],
      "source": [
        "df_listv = [x.drop(['channel3'], axis=1) for x in df_list1]\n",
        "\n",
        "wrapper = utils.TrainWrapper(df_listv)\n",
        "wrapper.split(train_sub, val_sub)\n",
        "\n",
        "ws_results = {}\n",
        "train_dict = {}\n",
        "\n",
        "for ws in win_step:\n",
        "  wrapper.make_windows(*ws)\n",
        "  wrapper.compute_features(features)\n",
        "  wrapper.make_test_folds()\n",
        "\n",
        "  for key in pregrid_dict:\n",
        "      train_dict[key] = pregrid_dict[key](wrapper.cv)\n",
        "\n",
        "  trained = utils.multitrain(train_dict, wrapper.x_tv, wrapper.y_tv)\n",
        "  key = str(ws)\n",
        "  ws_results[key] = {}\n",
        "\n",
        "  for x in trained:\n",
        "    cl = trained[x][0]\n",
        "\n",
        "    pre_predictv = cl.predict(wrapper.x_val)\n",
        "    pre_predict = cl.predict(wrapper.x_train)\n",
        "    ws_results[key][x] = (metrics.accuracy_score(wrapper.y_train, pre_predict),\n",
        "                        metrics.accuracy_score(wrapper.y_val, pre_predictv))\n"
      ]
    },
    {
      "cell_type": "code",
      "execution_count": 44,
      "metadata": {
        "colab": {
          "base_uri": "https://localhost:8080/"
        },
        "id": "M6RfWBgZ33qm",
        "outputId": "63329fa8-2bd7-435f-e838-b50bba77d742"
      },
      "outputs": [
        {
          "name": "stdout",
          "output_type": "stream",
          "text": [
            "(800, 250)\n",
            "{'linear': (0.8584356819650937, 0.9502164502164502), 'forest': (1.0, 1.0), 'knn': (0.9747899159663865, 0.9880952380952381)}\n",
            "(800, 150)\n",
            "{'linear': (0.868155762008302, 0.9518469656992085), 'forest': (1.0, 1.0), 'knn': (0.9901166238387032, 0.996042216358839)}\n",
            "(800, 350)\n",
            "{'linear': (0.8477970627503337, 0.9372197309417041), 'forest': (1.0, 1.0), 'knn': (0.9439252336448598, 0.9701046337817638)}\n",
            "(750, 250)\n",
            "{'linear': (0.8589580686149937, 0.951063829787234), 'forest': (1.0, 1.0), 'knn': (0.9723634053367217, 0.9893617021276596)}\n",
            "(950, 250)\n",
            "{'linear': (0.8605686879068174, 0.9452679589509693), 'forest': (1.0, 1.0), 'knn': (0.9938335046248715, 0.9965792474344356)}\n"
          ]
        }
      ],
      "source": [
        "for key in ws_results:\n",
        "  print(key)\n",
        "  print(ws_results[key])"
      ]
    },
    {
      "cell_type": "code",
      "execution_count": 45,
      "metadata": {
        "colab": {
          "base_uri": "https://localhost:8080/"
        },
        "id": "biHODugJKAD3",
        "outputId": "e137a914-ecf6-405d-e26c-cba0f34ec9de"
      },
      "outputs": [
        {
          "name": "stdout",
          "output_type": "stream",
          "text": [
            "Fitting 1 folds for each of 5 candidates, totalling 5 fits\n",
            "Fitting 1 folds for each of 2 candidates, totalling 2 fits\n",
            "Fitting 1 folds for each of 6 candidates, totalling 6 fits\n"
          ]
        }
      ],
      "source": [
        "wrapper.make_windows(*(950, 150))\n",
        "wrapper.compute_features(features)\n",
        "wrapper.make_test_folds()\n",
        "\n",
        "for key in pregrid_dict:\n",
        "      train_dict[key] = pregrid_dict[key](wrapper.cv)\n",
        "\n",
        "trained = utils.multitrain(train_dict, wrapper.x_tv, wrapper.y_tv)\n",
        "key = '(950, 150)'\n",
        "ws_results[key] = {}\n",
        "\n",
        "for x in trained:\n",
        "    cl = trained[x][0]\n",
        "\n",
        "    pre_predictv = cl.predict(wrapper.x_val)\n",
        "    pre_predict = cl.predict(wrapper.x_train)\n",
        "    ws_results[key][x] = (metrics.accuracy_score(wrapper.y_train, pre_predict),\n",
        "                        metrics.accuracy_score(wrapper.y_val, pre_predictv))"
      ]
    },
    {
      "cell_type": "code",
      "execution_count": 76,
      "metadata": {
        "colab": {
          "base_uri": "https://localhost:8080/"
        },
        "id": "pxhfMk8sKud1",
        "outputId": "ba4f41ab-9970-4912-da51-ca75319869ad"
      },
      "outputs": [
        {
          "name": "stdout",
          "output_type": "stream",
          "text": [
            "(800, 250)\n",
            "{'linear': (0.8584356819650937, 0.9502164502164502), 'forest': (1.0, 1.0), 'knn': (0.9747899159663865, 0.9880952380952381)}\n",
            "(800, 150)\n",
            "{'linear': (0.868155762008302, 0.9518469656992085), 'forest': (1.0, 1.0), 'knn': (0.9901166238387032, 0.996042216358839)}\n",
            "(800, 350)\n",
            "{'linear': (0.8477970627503337, 0.9372197309417041), 'forest': (1.0, 1.0), 'knn': (0.9439252336448598, 0.9701046337817638)}\n",
            "(750, 250)\n",
            "{'linear': (0.8589580686149937, 0.951063829787234), 'forest': (1.0, 1.0), 'knn': (0.9723634053367217, 0.9893617021276596)}\n",
            "(950, 250)\n",
            "{'linear': (0.8605686879068174, 0.9452679589509693), 'forest': (1.0, 1.0), 'knn': (0.9938335046248715, 0.9965792474344356)}\n",
            "(950, 150)\n",
            "{'linear': (0.8681618109411025, 0.9508310249307479), 'forest': (1.0, 1.0), 'knn': (0.9907776147558164, 0.9965373961218836)}\n"
          ]
        }
      ],
      "source": [
        "for key in ws_results:\n",
        "  print(key)\n",
        "  print(ws_results[key])"
      ]
    }
  ],
  "metadata": {
    "colab": {
      "collapsed_sections": [
        "xURl0YkHMjhE",
        "v-1VYiH_4Woq",
        "1KtR8_jlIF7a",
        "O3PefwZxIJg4",
        "nn2yZ04PBs5F",
        "0ta3bq8a36G8",
        "U_5iKlvLUhpx",
        "CaKo-RvuaLFD",
        "xJwdVHc_37DP"
      ],
      "name": "Testing_IC.ipynb",
      "provenance": []
    },
    "kernelspec": {
      "display_name": "Python 3",
      "name": "python3"
    },
    "language_info": {
      "name": "python"
    }
  },
  "nbformat": 4,
  "nbformat_minor": 0
}
