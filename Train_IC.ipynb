{
  "cells": [
    {
      "cell_type": "markdown",
      "metadata": {
        "id": "bJLmWKPieyX4"
      },
      "source": [
        "## Procesado previo"
      ]
    },
    {
      "cell_type": "code",
      "execution_count": 3,
      "metadata": {
        "id": "9QZX-5C3eQmY"
      },
      "outputs": [],
      "source": [
        "import utils\n",
        "import pandas as pd\n",
        "from sklearn.model_selection import train_test_split\n",
        "import numpy as np"
      ]
    },
    {
      "cell_type": "code",
      "execution_count": 4,
      "metadata": {
        "id": "oYU-qAxQevpg"
      },
      "outputs": [],
      "source": [
        "df_list = utils.read_data('train')\n",
        "train_sub, val_sub = train_test_split(np.arange(1, 31), train_size = 0.8, random_state = 42)"
      ]
    },
    {
      "cell_type": "code",
      "execution_count": 5,
      "metadata": {
        "id": "U46gTMoxf1wF"
      },
      "outputs": [],
      "source": [
        "def data_range(x):\n",
        "  return x.max()-x.min()\n",
        "\n",
        "def rms(x):\n",
        "  z = x*x\n",
        "  sum = z.sum()\n",
        "  result = np.sqrt(sum/len(x))\n",
        "\n",
        "  return result\n",
        "\n",
        "# Zero crossing rate\n",
        "def zcr(x):\n",
        "  x = np.array(x)\n",
        "  n = len(x)\n",
        "  zc = ((x[:-1] * x[1:]) < 0).sum()\n",
        "  return zc/n\n",
        "\n",
        "def mcr(x):\n",
        "  x = np.array(x)\n",
        "  z = x-np.mean(x)\n",
        "  return zcr(z)\n",
        "\n",
        "#waveform length\n",
        "def wl(data):\n",
        "    return np.sum(np.abs(np.diff(data,axis=0)), axis=0)\n",
        "\n",
        "features = [wl, 'mad', mcr, rms, data_range, 'kurtosis']"
      ]
    },
    {
      "cell_type": "code",
      "execution_count": 6,
      "metadata": {
        "id": "N3lZPP-BgfHQ"
      },
      "outputs": [],
      "source": [
        "# Sustraer promedio\n",
        "channels = [f'channel{i}' for i in range(1,9)]\n",
        "df_list1 = [utils.substract_mean(x, channels) for x in df_list]\n",
        "\n",
        "# Quitar canal 3\n",
        "df_list1 = [x.drop(['channel3'], axis=1) for x in df_list1]"
      ]
    },
    {
      "cell_type": "markdown",
      "metadata": {
        "id": "348MgejiBBgc"
      },
      "source": [
        "## Simplificación de entrenamiento"
      ]
    },
    {
      "cell_type": "code",
      "execution_count": 7,
      "metadata": {
        "id": "7HyWtQKsA-3m"
      },
      "outputs": [],
      "source": [
        "def train_with_wrapper(df_list, train_sub, val_sub, features, grid_dict):\n",
        "  wrapper = utils.TrainWrapper(df_list)\n",
        "  wrapper.split(train_sub, val_sub) # Split train/val\n",
        "  wrapper.make_windows() # Crear ventanas\n",
        "  wrapper.compute_features(features)\n",
        "  wrapper.make_test_folds() # Crear x_tv, y_tv y cv\n",
        "\n",
        "  for key in grid_dict:\n",
        "    grid_dict[key].cv = wrapper.cv # Setea cross-validation fold\n",
        "  \n",
        "  wrapper_trained = utils.multitrain(grid_dict, wrapper.x_tv, wrapper.y_tv)\n",
        "\n",
        "  return wrapper_trained, wrapper"
      ]
    },
    {
      "cell_type": "markdown",
      "metadata": {
        "id": "rH4wYBW3qB7k"
      },
      "source": [
        "### Grids"
      ]
    },
    {
      "cell_type": "code",
      "execution_count": 8,
      "metadata": {
        "id": "EUpZqycLgw4E"
      },
      "outputs": [],
      "source": [
        "from sklearn.ensemble import RandomForestClassifier\n",
        "from sklearn.neighbors import KNeighborsClassifier\n",
        "from sklearn.ensemble import AdaBoostClassifier\n",
        "from sklearn.neural_network import MLPClassifier\n",
        "from sklearn.svm import SVC\n",
        "from sklearn.model_selection import GridSearchCV"
      ]
    },
    {
      "cell_type": "code",
      "execution_count": 9,
      "metadata": {
        "id": "D3ylMGZhO5qc"
      },
      "outputs": [],
      "source": [
        "param_grids = {\n",
        "    'linear' : [{\n",
        "        'C':[0.001, 0.1, 1, 10],\n",
        "        'kernel': ['linear']\n",
        "        }],\n",
        "\n",
        "     'poly' : [{\n",
        "          'C': [1e-2, 1e-1, 1],\n",
        "          'gamma':[1e-1, 1, 1e1],\n",
        "          'degree':[2, 3],\n",
        "          'kernel': ['poly']\n",
        "                  }],\n",
        "    'rbf': [{\n",
        "          'C': [0.01, 0.1, 1.0, 10.0],\n",
        "          'gamma': [1e-1, 1, 10],\n",
        "          'kernel': ['rbf']\n",
        "                  }],\n",
        "    'knn': [{\n",
        "        'n_neighbors':[5, 10, 15, 20],\n",
        "        'algorithm': ['ball_tree', 'kd_tree']}],  \n",
        "\n",
        "    'boost': [{\n",
        "        'n_estimators': np.arange(10, 111, 20)}],\n",
        "\n",
        "    'forest': [{\n",
        "          'n_estimators': np.arange(150, 351, 100),\n",
        "          'criterion' : ['entropy']\n",
        "                        }]\n",
        "}\n"
      ]
    },
    {
      "cell_type": "code",
      "execution_count": 10,
      "metadata": {
        "colab": {
          "base_uri": "https://localhost:8080/"
        },
        "id": "sYSLqGw7xxjA",
        "outputId": "1f577cd1-e23d-4445-bdff-d13d019d68ab"
      },
      "outputs": [
        {
          "data": {
            "text/plain": [
              "dict_keys(['linear', 'poly', 'rbf', 'knn', 'boost', 'forest'])"
            ]
          },
          "execution_count": 10,
          "metadata": {},
          "output_type": "execute_result"
        }
      ],
      "source": [
        "param_grids.keys()"
      ]
    },
    {
      "cell_type": "code",
      "execution_count": 31,
      "metadata": {
        "id": "58ahm8N_xs_R"
      },
      "outputs": [],
      "source": [
        "estimators = {\n",
        "    'linear': SVC(), 'poly': SVC(), 'rbf': SVC(),\n",
        "     'knn': KNeighborsClassifier(), 'boost': AdaBoostClassifier(),\n",
        "      'forest': RandomForestClassifier()\n",
        "}"
      ]
    },
    {
      "cell_type": "markdown",
      "metadata": {
        "id": "3Qu1kgTDg5OD"
      },
      "source": [
        "## Entrenamiento"
      ]
    },
    {
      "cell_type": "code",
      "execution_count": 32,
      "metadata": {
        "id": "17ru7rn1r0vW"
      },
      "outputs": [],
      "source": [
        "wrapper = utils.TrainWrapper(df_list1)\n",
        "wrapper.split(train_sub, val_sub) # Split train/val\n",
        "wrapper.make_windows(step = 150) # Crear ventanas\n",
        "wrapper.compute_features(features)\n",
        "wrapper.make_test_folds() # Crear x_tv, y_tv y cv"
      ]
    },
    {
      "cell_type": "code",
      "execution_count": 33,
      "metadata": {
        "id": "Bl54qGpjz3G-"
      },
      "outputs": [],
      "source": [
        "common = {'scoring':'balanced_accuracy', 'refit':True, 'verbose':1}"
      ]
    },
    {
      "cell_type": "code",
      "execution_count": 34,
      "metadata": {
        "id": "Kgo8tFPqzdnE"
      },
      "outputs": [],
      "source": [
        "pre_estimators = ['linear', 'boost', 'forest']\n",
        "pre_grid = {}\n",
        "for p in pre_estimators:\n",
        "  pre_grid[p] = GridSearchCV(estimator = estimators[p], param_grid = param_grids[p],\n",
        "                             cv = wrapper.cv, **common)"
      ]
    },
    {
      "cell_type": "code",
      "execution_count": 35,
      "metadata": {
        "colab": {
          "base_uri": "https://localhost:8080/"
        },
        "id": "uSY_mYunsAMF",
        "outputId": "ed806419-006e-444e-dbd8-da9318017682"
      },
      "outputs": [
        {
          "name": "stdout",
          "output_type": "stream",
          "text": [
            "Fitting 1 folds for each of 4 candidates, totalling 4 fits\n",
            "Fitting 1 folds for each of 6 candidates, totalling 6 fits\n",
            "Fitting 1 folds for each of 3 candidates, totalling 3 fits\n"
          ]
        }
      ],
      "source": [
        "wrapper_trained = utils.multitrain(pre_grid, wrapper.x_tv, wrapper.y_tv)"
      ]
    },
    {
      "cell_type": "code",
      "execution_count": 36,
      "metadata": {
        "colab": {
          "base_uri": "https://localhost:8080/"
        },
        "id": "TpPwvSp_0qdg",
        "outputId": "7e78efe0-cae7-4dfb-cecf-8d8a4c177478"
      },
      "outputs": [
        {
          "data": {
            "text/plain": [
              "{'boost': [AdaBoostClassifier(n_estimators=10), {'n_estimators': 10}],\n",
              " 'forest': [RandomForestClassifier(criterion='entropy', n_estimators=250),\n",
              "  {'criterion': 'entropy', 'n_estimators': 250}],\n",
              " 'linear': [SVC(C=0.1, kernel='linear'), {'C': 0.1, 'kernel': 'linear'}]}"
            ]
          },
          "execution_count": 36,
          "metadata": {},
          "output_type": "execute_result"
        }
      ],
      "source": [
        "wrapper_trained"
      ]
    },
    {
      "cell_type": "code",
      "execution_count": 37,
      "metadata": {
        "id": "Io4EdG4t1EL4"
      },
      "outputs": [],
      "source": [
        "import sklearn.metrics as metrics"
      ]
    },
    {
      "cell_type": "code",
      "execution_count": 38,
      "metadata": {
        "id": "OLvBvLju0csL"
      },
      "outputs": [],
      "source": [
        "pre_accs = {}\n",
        "\n",
        "for x in wrapper_trained:\n",
        "    cl = wrapper_trained[x][0]\n",
        "    pre_predictv = cl.predict(wrapper.x_val)\n",
        "    pre_predict = cl.predict(wrapper.x_train)\n",
        "\n",
        "    pre_accs[x] = (metrics.accuracy_score(wrapper.y_train, pre_predict),\n",
        "                    metrics.accuracy_score(wrapper.y_val, pre_predictv))"
      ]
    },
    {
      "cell_type": "code",
      "execution_count": 39,
      "metadata": {
        "colab": {
          "base_uri": "https://localhost:8080/"
        },
        "id": "-58DNE1D7PP_",
        "outputId": "b181b6b5-4b14-4126-e742-4782f24b8afa"
      },
      "outputs": [
        {
          "data": {
            "text/plain": [
              "{'boost': (0.3271397509389207, 0.3344327176781003),\n",
              " 'forest': (1.0, 1.0),\n",
              " 'linear': (0.868155762008302, 0.9518469656992085)}"
            ]
          },
          "execution_count": 39,
          "metadata": {},
          "output_type": "execute_result"
        }
      ],
      "source": [
        "pre_accs"
      ]
    },
    {
      "cell_type": "code",
      "execution_count": 40,
      "metadata": {
        "id": "xKfM16lX2EO_"
      },
      "outputs": [],
      "source": [
        "from sklearn.feature_selection import SelectFromModel"
      ]
    },
    {
      "cell_type": "code",
      "execution_count": 41,
      "metadata": {
        "id": "JDHA0aql2Kos"
      },
      "outputs": [],
      "source": [
        "selector = SelectFromModel(wrapper_trained['forest'][0]).fit(wrapper.x_train, wrapper.y_train)\n",
        "x_trainr = selector.transform(wrapper.x_train)\n",
        "x_valr = selector.transform(wrapper.x_val)\n",
        "x_tvr = np.concatenate([x_trainr, x_valr])"
      ]
    },
    {
      "cell_type": "code",
      "execution_count": 42,
      "metadata": {
        "colab": {
          "base_uri": "https://localhost:8080/"
        },
        "id": "2-nBLp2z4x-c",
        "outputId": "21f6aa17-08ab-4077-f95e-aae14631dca3"
      },
      "outputs": [
        {
          "name": "stdout",
          "output_type": "stream",
          "text": [
            "42, 18\n"
          ]
        }
      ],
      "source": [
        "print(f'{wrapper.x_train.shape[-1]}, {x_tvr.shape[-1]}')"
      ]
    },
    {
      "cell_type": "code",
      "execution_count": 43,
      "metadata": {
        "id": "zrXHJwCt1ITb"
      },
      "outputs": [],
      "source": [
        "grid = {}\n",
        "for p in estimators.keys():\n",
        "    grid[p] = GridSearchCV(estimator = estimators[p], param_grid = param_grids[p],\n",
        "                             cv = wrapper.cv, **common)"
      ]
    },
    {
      "cell_type": "code",
      "execution_count": 44,
      "metadata": {
        "colab": {
          "base_uri": "https://localhost:8080/"
        },
        "id": "tZykN5Zr4Lgt",
        "outputId": "7e09c198-dbc6-4530-d348-50bb05766ec3"
      },
      "outputs": [
        {
          "name": "stdout",
          "output_type": "stream",
          "text": [
            "Fitting 1 folds for each of 4 candidates, totalling 4 fits\n",
            "Fitting 1 folds for each of 18 candidates, totalling 18 fits\n",
            "Fitting 1 folds for each of 12 candidates, totalling 12 fits\n",
            "Fitting 1 folds for each of 8 candidates, totalling 8 fits\n",
            "Fitting 1 folds for each of 3 candidates, totalling 3 fits\n"
          ]
        }
      ],
      "source": [
        "trained = utils.multitrain(grid, x_tvr, wrapper.y_tv)"
      ]
    },
    {
      "cell_type": "code",
      "execution_count": 106,
      "metadata": {
        "colab": {
          "base_uri": "https://localhost:8080/"
        },
        "id": "xZx93zjU6ezu",
        "outputId": "d557a19b-3612-4fbb-c134-117659deffc3"
      },
      "outputs": [
        {
          "name": "stdout",
          "output_type": "stream",
          "text": [
            "Hiper-parámetros\n",
            "linear: SVC(C=10, kernel='linear')\n",
            "poly: SVC(C=0.1, degree=2, gamma=10.0, kernel='poly')\n",
            "rbf: SVC(C=0.1, gamma=1)\n",
            "knn: KNeighborsClassifier(algorithm='ball_tree', n_neighbors=20)\n",
            "boost: AdaBoostClassifier(n_estimators=30)\n",
            "forest: RandomForestClassifier(criterion='entropy', n_estimators=350)\n"
          ]
        }
      ],
      "source": [
        "print('Hiper-parámetros')\n",
        "for key in trained:\n",
        "  print(f'{key}: {trained[key][0]}')"
      ]
    },
    {
      "cell_type": "code",
      "execution_count": 45,
      "metadata": {
        "id": "QNd9uQFw3ThV"
      },
      "outputs": [],
      "source": [
        "accs = {}\n",
        "\n",
        "for x in trained:\n",
        "    cl = trained[x][0]\n",
        "    predictv = cl.predict(x_valr)\n",
        "    predict = cl.predict(x_trainr)\n",
        "\n",
        "    accs[x] = (metrics.accuracy_score(wrapper.y_train, predict),\n",
        "                    metrics.accuracy_score(wrapper.y_val, predictv))"
      ]
    },
    {
      "cell_type": "code",
      "execution_count": 137,
      "metadata": {
        "colab": {
          "base_uri": "https://localhost:8080/"
        },
        "id": "JcF-5zhp5Z8v",
        "outputId": "365a657e-d27e-44e9-b17e-c80bf6446682"
      },
      "outputs": [
        {
          "data": {
            "text/plain": [
              "0.2305703422053232"
            ]
          },
          "execution_count": 137,
          "metadata": {},
          "output_type": "execute_result"
        }
      ],
      "source": [
        "frac = len(wrapper.x_val)/(len(wrapper.x_train)+ len(wrapper.x_val))\n",
        "frac"
      ]
    },
    {
      "cell_type": "code",
      "execution_count": 167,
      "metadata": {
        "id": "mo272Z_osVst"
      },
      "outputs": [],
      "source": [
        "ann = MLPClassifier((30, 30, 30), shuffle = False, random_state = 42, early_stopping=True,\n",
        "              validation_fraction = frac, learning_rate='adaptive')"
      ]
    },
    {
      "cell_type": "code",
      "execution_count": 168,
      "metadata": {
        "colab": {
          "base_uri": "https://localhost:8080/"
        },
        "id": "35xes1oe-f8-",
        "outputId": "6b9490f5-301c-4674-e9f1-9c58a67789a6"
      },
      "outputs": [
        {
          "data": {
            "text/plain": [
              "MLPClassifier(early_stopping=True, hidden_layer_sizes=(30, 30, 30),\n",
              "              learning_rate='adaptive', random_state=42, shuffle=False,\n",
              "              validation_fraction=0.2305703422053232)"
            ]
          },
          "execution_count": 168,
          "metadata": {},
          "output_type": "execute_result"
        }
      ],
      "source": [
        "ann.fit(x_tvr, wrapper.y_tv)"
      ]
    },
    {
      "cell_type": "code",
      "execution_count": null,
      "metadata": {
        "id": "uR1xdX9V1qMR"
      },
      "outputs": [],
      "source": [
        "for i in range(1,7):\n",
        "  print(f'label={i}')\n",
        "  print((np.array(wrapper.y_train) == i).sum())\n",
        "  print((np.array(wrapper.y_val) == i).sum())"
      ]
    },
    {
      "cell_type": "code",
      "execution_count": 169,
      "metadata": {
        "id": "tCHbMTNg-xEf"
      },
      "outputs": [],
      "source": [
        "predictv = ann.predict(x_valr)\n",
        "predict = ann.predict(x_trainr)\n",
        "\n",
        "accs['ann'] = (metrics.accuracy_score(wrapper.y_train, predict),\n",
        "                    metrics.accuracy_score(wrapper.y_val, predictv))"
      ]
    },
    {
      "cell_type": "code",
      "execution_count": 170,
      "metadata": {
        "colab": {
          "base_uri": "https://localhost:8080/"
        },
        "id": "Cu9ajy4s_Dfe",
        "outputId": "4cad9973-684e-4281-c380-5ae71f3dc4ef"
      },
      "outputs": [
        {
          "data": {
            "text/plain": [
              "{'ann': (0.9134216248270409, 0.9650395778364116),\n",
              " 'boost': (0.34275548527376953, 0.3891820580474934),\n",
              " 'forest': (1.0, 1.0),\n",
              " 'knn': (0.9325953745799566, 0.962401055408971),\n",
              " 'linear': (0.8464123344534493, 0.9610817941952506),\n",
              " 'poly': (0.8857481715754102, 0.9472295514511874),\n",
              " 'rbf': (0.8331686103973117, 0.9320580474934037)}"
            ]
          },
          "execution_count": 170,
          "metadata": {},
          "output_type": "execute_result"
        }
      ],
      "source": [
        "accs"
      ]
    },
    {
      "cell_type": "markdown",
      "metadata": {
        "id": "44-WakroMWVZ"
      },
      "source": [
        "## Matrices de confusión"
      ]
    },
    {
      "cell_type": "code",
      "execution_count": 101,
      "metadata": {
        "colab": {
          "base_uri": "https://localhost:8080/",
          "height": 448
        },
        "id": "WDuOkVXoNmz0",
        "outputId": "44939f3f-f2d2-43ba-bd3f-24775684b500"
      },
      "outputs": [
        {
          "name": "stdout",
          "output_type": "stream",
          "text": [
            "Accuracy = 1.0\n"
          ]
        },
        {
          "data": {
            "image/png": "[encoded data removed]",
            "text/plain": [
              "<Figure size 576x432 with 2 Axes>"
            ]
          },
          "metadata": {
            "needs_background": "light"
          },
          "output_type": "display_data"
        }
      ],
      "source": [
        "c = utils.show_matrixes(wrapper.y_val, trained['forest'][0].predict(x_valr), 'Random Forest')"
      ]
    },
    {
      "cell_type": "code",
      "execution_count": 148,
      "metadata": {
        "colab": {
          "base_uri": "https://localhost:8080/",
          "height": 448
        },
        "id": "PJ2ILW3PNYCX",
        "outputId": "e2468771-4ba0-4bd4-c1b8-e1fd3bad5af7"
      },
      "outputs": [
        {
          "name": "stdout",
          "output_type": "stream",
          "text": [
            "Accuracy = 0.962\n"
          ]
        },
        {
          "data": {
            "image/png": "[encoded data removed]",
            "text/plain": [
              "<Figure size 576x432 with 2 Axes>"
            ]
          },
          "metadata": {
            "needs_background": "light"
          },
          "output_type": "display_data"
        }
      ],
      "source": [
        "c =  utils.show_matrixes(wrapper.y_val, trained['knn'][0].predict(x_valr), 'K-NN')"
      ]
    },
    {
      "cell_type": "code",
      "execution_count": 172,
      "metadata": {
        "colab": {
          "base_uri": "https://localhost:8080/",
          "height": 448
        },
        "id": "uuJ4L1LUMYbx",
        "outputId": "521dc958-55fc-4a39-89d5-2bed4b1dbf2a"
      },
      "outputs": [
        {
          "name": "stdout",
          "output_type": "stream",
          "text": [
            "Accuracy = 0.965\n"
          ]
        },
        {
          "data": {
            "image/png": "[encoded data removed]",
            "text/plain": [
              "<Figure size 576x432 with 2 Axes>"
            ]
          },
          "metadata": {
            "needs_background": "light"
          },
          "output_type": "display_data"
        }
      ],
      "source": [
        "c = utils.show_matrixes(wrapper.y_val, ann.predict(x_valr), 'Red neuronal')"
      ]
    },
    {
      "cell_type": "markdown",
      "metadata": {
        "id": "xJwdVHc_37DP"
      },
      "source": [
        "## Predicción para conjunto de prueba"
      ]
    },
    {
      "cell_type": "code",
      "execution_count": 138,
      "metadata": {
        "id": "1nswEzLrjK3k"
      },
      "outputs": [],
      "source": [
        "path_test = 'windows_test.csv'\n",
        "test_data = utils.read_test_data(path_test)"
      ]
    },
    {
      "cell_type": "code",
      "execution_count": 139,
      "metadata": {
        "id": "VfgUaWxrj4yv"
      },
      "outputs": [],
      "source": [
        "test_list = [pd.DataFrame(np.delete(test_data[i], 2, axis=1)) for i in range(len(test_data))] # Sin canal 3"
      ]
    },
    {
      "cell_type": "code",
      "execution_count": 142,
      "metadata": {
        "id": "0qQd1M9akIUr"
      },
      "outputs": [],
      "source": [
        "x_test = utils.window_to_features(test_list, features)"
      ]
    },
    {
      "cell_type": "code",
      "execution_count": 143,
      "metadata": {
        "id": "peKd9hAwtK3h"
      },
      "outputs": [],
      "source": [
        "x_tests = wrapper.scaler.transform(x_test)\n",
        "x_testr = selector.transform(x_tests)"
      ]
    },
    {
      "cell_type": "code",
      "execution_count": 144,
      "metadata": {
        "colab": {
          "base_uri": "https://localhost:8080/"
        },
        "id": "Q1ddTUNLscv9",
        "outputId": "fc39bb3b-295f-49c1-b934-332ab5e8137f"
      },
      "outputs": [
        {
          "data": {
            "text/plain": [
              "(672, 18)"
            ]
          },
          "execution_count": 144,
          "metadata": {},
          "output_type": "execute_result"
        }
      ],
      "source": [
        "x_testr.shape"
      ]
    },
    {
      "cell_type": "code",
      "execution_count": 164,
      "metadata": {
        "id": "RvTKQRWCk5gE"
      },
      "outputs": [],
      "source": [
        "#y_predict = trained['forest'][0].predict(x_testr)\n",
        "#y_predict = trained['knn'][0].predict(x_testr)\n",
        "y_predict = ann.predict(x_testr)"
      ]
    },
    {
      "cell_type": "code",
      "execution_count": 178,
      "metadata": {
        "colab": {
          "base_uri": "https://localhost:8080/"
        },
        "id": "w7OGbNT0lTY_",
        "outputId": "b66367ca-182a-4287-e6fe-08e12ce2dbec"
      },
      "outputs": [
        {
          "data": {
            "text/plain": [
              "array([6, 3, 2, 4, 3, 4, 3, 4, 6, 2, 3, 1, 4, 5, 3, 1, 4, 5, 3, 6, 4, 5,\n",
              "       1, 5, 5, 2, 6, 1, 6, 2, 5, 5, 6, 3, 6, 6, 6, 2, 3, 2, 5, 5, 6, 5,\n",
              "       1, 5, 4, 2, 3, 3, 1, 2, 1, 6, 5, 1, 3, 3, 6, 2, 4, 4, 2, 5, 4, 5,\n",
              "       2, 6, 2, 4, 1, 5, 2, 5, 5, 2, 2, 2, 6, 6, 1, 4, 3, 6, 4, 5, 4, 4,\n",
              "       6, 1, 3, 4, 4, 2, 4, 1, 5, 3, 2, 1, 4, 1, 4, 2, 5, 1, 5, 4, 1, 5,\n",
              "       5, 3, 6, 5, 2, 6, 4, 2, 5, 3, 3, 2, 6, 1, 2, 4, 5, 5, 2, 4, 1, 5,\n",
              "       4, 4, 2, 2, 1, 2, 4, 3, 5, 6, 2, 5, 2, 6, 4, 4, 6, 2, 3, 2, 1, 6,\n",
              "       1, 3, 3, 5, 6, 2, 1, 3, 6, 1, 5, 1, 3, 5, 6, 2, 6, 4, 2, 5, 2, 5,\n",
              "       2, 5, 1, 6, 1, 1, 5, 3, 5, 4, 3, 2, 6, 4, 2, 1, 6, 5, 6, 4, 6, 6,\n",
              "       3, 2, 1, 1, 6, 6, 4, 6, 3, 4, 4, 5, 5, 2, 6, 1, 3, 4, 6, 2, 1, 5,\n",
              "       5, 2, 6, 1, 6, 1, 2, 1, 6, 3, 2, 1, 1, 3, 6, 6, 5, 6, 6, 6, 5, 5,\n",
              "       5, 4, 4, 6, 6, 6, 6, 1, 2, 4, 3, 6, 4, 2, 6, 6, 1, 4, 6, 3, 3, 4,\n",
              "       6, 5, 6, 5, 2, 4, 4, 4, 3, 2, 5, 1, 4, 4, 5, 1, 5, 4, 6, 2, 1, 3,\n",
              "       5, 4, 3, 6, 2, 4, 4, 2, 1, 6, 5, 1, 3, 3, 6, 5, 2, 3, 4, 2, 5, 1,\n",
              "       2, 6, 6, 1, 6, 1, 2, 5, 1, 4, 3, 6, 3, 4, 2, 6, 6, 6, 4, 6, 1, 5,\n",
              "       3, 5, 5, 6, 2, 5, 1, 2, 3, 4, 6, 4, 1, 3, 3, 3, 1, 5, 4, 1, 4, 1,\n",
              "       3, 6, 3, 3, 5, 6, 6, 4, 6, 2, 3, 6, 6, 4, 2, 1, 6, 3, 1, 2, 4, 2,\n",
              "       4, 5, 5, 2, 1, 4, 2, 1, 2, 3, 4, 6, 5, 4, 3, 1, 3, 4, 1, 2, 6, 6,\n",
              "       3, 1, 1, 6, 2, 3, 3, 5, 3, 3, 6, 2, 4, 2, 6, 5, 4, 2, 4, 4, 2, 6,\n",
              "       6, 2, 2, 6, 5, 4, 5, 3, 6, 3, 3, 3, 1, 1, 4, 5, 4, 3, 3, 6, 6, 6,\n",
              "       5, 2, 3, 4, 1, 6, 5, 6, 1, 1, 1, 3, 2, 1, 1, 4, 1, 5, 5, 6, 5, 5,\n",
              "       4, 1, 2, 2, 6, 1, 1, 5, 1, 1, 4, 6, 3, 4, 5, 4, 1, 5, 3, 1, 2, 4,\n",
              "       2, 5, 6, 2, 4, 6, 3, 5, 4, 3, 4, 6, 6, 3, 3, 2, 5, 5, 6, 3, 3, 6,\n",
              "       6, 3, 1, 2, 4, 1, 1, 2, 4, 3, 5, 3, 6, 4, 5, 1, 1, 2, 6, 1, 3, 5,\n",
              "       5, 4, 1, 5, 3, 3, 2, 3, 6, 2, 2, 1, 5, 6, 4, 5, 5, 5, 5, 6, 6, 6,\n",
              "       2, 6, 6, 6, 2, 5, 6, 2, 5, 5, 6, 2, 2, 5, 3, 2, 5, 1, 3, 1, 6, 3,\n",
              "       6, 4, 4, 2, 2, 1, 3, 3, 6, 4, 2, 4, 2, 6, 6, 2, 1, 2, 6, 4, 3, 2,\n",
              "       3, 3, 4, 2, 3, 3, 2, 2, 3, 1, 5, 4, 4, 6, 1, 6, 4, 1, 3, 6, 6, 4,\n",
              "       4, 6, 5, 5, 4, 6, 4, 4, 5, 1, 1, 6, 3, 3, 1, 6, 3, 4, 4, 3, 6, 5,\n",
              "       1, 1, 2, 4, 4, 2, 5, 4, 4, 2, 4, 3, 6, 2, 2, 3, 5, 4, 5, 6, 3, 5,\n",
              "       3, 3, 5, 4, 5, 4, 3, 3, 5, 6, 2, 3])"
            ]
          },
          "execution_count": 178,
          "metadata": {},
          "output_type": "execute_result"
        }
      ],
      "source": [
        "y_predict"
      ]
    },
    {
      "cell_type": "code",
      "execution_count": 154,
      "metadata": {
        "id": "OjnGbKwzxV8X"
      },
      "outputs": [],
      "source": [
        "y_kaggle = pd.DataFrame(np.arange(0, 672), columns=['Id'])\n",
        "y_kaggle['Category'] = y_predict\n",
        "y_kaggle.to_csv('predict.csv', index=False)"
      ]
    }
  ],
  "metadata": {
    "colab": {
      "collapsed_sections": [],
      "name": "Train_IC.ipynb",
      "provenance": []
    },
    "kernelspec": {
      "display_name": "Python 3",
      "name": "python3"
    },
    "language_info": {
      "name": "python"
    }
  },
  "nbformat": 4,
  "nbformat_minor": 0
}
